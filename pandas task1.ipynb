{
 "cells": [
  {
   "cell_type": "code",
   "execution_count": 3,
   "id": "aeec7c61",
   "metadata": {},
   "outputs": [],
   "source": [
    "import pandas as pd\n"
   ]
  },
  {
   "cell_type": "code",
   "execution_count": 9,
   "id": "5222fd6a",
   "metadata": {},
   "outputs": [],
   "source": [
    "df=pd.read_csv(r'D:\\agentdataset.csv')"
   ]
  },
  {
   "cell_type": "code",
   "execution_count": 10,
   "id": "f6efd97b",
   "metadata": {},
   "outputs": [],
   "source": [
    "df.columns=df.iloc[0]"
   ]
  },
  {
   "cell_type": "code",
   "execution_count": 11,
   "id": "e638da20",
   "metadata": {},
   "outputs": [
    {
     "data": {
      "text/html": [
       "<div>\n",
       "<style scoped>\n",
       "    .dataframe tbody tr th:only-of-type {\n",
       "        vertical-align: middle;\n",
       "    }\n",
       "\n",
       "    .dataframe tbody tr th {\n",
       "        vertical-align: top;\n",
       "    }\n",
       "\n",
       "    .dataframe thead th {\n",
       "        text-align: right;\n",
       "    }\n",
       "</style>\n",
       "<table border=\"1\" class=\"dataframe\">\n",
       "  <thead>\n",
       "    <tr style=\"text-align: right;\">\n",
       "      <th></th>\n",
       "      <th>SL No</th>\n",
       "      <th>Date</th>\n",
       "      <th>Agent Name</th>\n",
       "      <th>Total Chats</th>\n",
       "      <th>Average Response Time</th>\n",
       "      <th>Average Resolution Time</th>\n",
       "      <th>Average Rating</th>\n",
       "      <th>Total Feedback</th>\n",
       "    </tr>\n",
       "  </thead>\n",
       "  <tbody>\n",
       "    <tr>\n",
       "      <th>0</th>\n",
       "      <td>SL No</td>\n",
       "      <td>Date</td>\n",
       "      <td>Agent Name</td>\n",
       "      <td>Total Chats</td>\n",
       "      <td>Average Response Time</td>\n",
       "      <td>Average Resolution Time</td>\n",
       "      <td>Average Rating</td>\n",
       "      <td>Total Feedback</td>\n",
       "    </tr>\n",
       "    <tr>\n",
       "      <th>1</th>\n",
       "      <td>1</td>\n",
       "      <td>30-07-2022</td>\n",
       "      <td>Prerna Singh</td>\n",
       "      <td>11</td>\n",
       "      <td>00:00:38</td>\n",
       "      <td>00:04:20</td>\n",
       "      <td>4.11</td>\n",
       "      <td>9</td>\n",
       "    </tr>\n",
       "    <tr>\n",
       "      <th>2</th>\n",
       "      <td>2</td>\n",
       "      <td>30-07-2022</td>\n",
       "      <td>Nandani Gupta</td>\n",
       "      <td>11</td>\n",
       "      <td>00:01:15</td>\n",
       "      <td>00:28:25</td>\n",
       "      <td>3.14</td>\n",
       "      <td>7</td>\n",
       "    </tr>\n",
       "    <tr>\n",
       "      <th>3</th>\n",
       "      <td>3</td>\n",
       "      <td>30-07-2022</td>\n",
       "      <td>Ameya Jain</td>\n",
       "      <td>14</td>\n",
       "      <td>00:00:30</td>\n",
       "      <td>00:11:36</td>\n",
       "      <td>4.55</td>\n",
       "      <td>11</td>\n",
       "    </tr>\n",
       "    <tr>\n",
       "      <th>4</th>\n",
       "      <td>4</td>\n",
       "      <td>30-07-2022</td>\n",
       "      <td>Mahesh Sarade</td>\n",
       "      <td>14</td>\n",
       "      <td>00:01:04</td>\n",
       "      <td>00:15:46</td>\n",
       "      <td>4.71</td>\n",
       "      <td>7</td>\n",
       "    </tr>\n",
       "  </tbody>\n",
       "</table>\n",
       "</div>"
      ],
      "text/plain": [
       "0  SL No        Date     Agent Name  Total Chats  Average Response Time  \\\n",
       "0  SL No        Date     Agent Name  Total Chats  Average Response Time   \n",
       "1      1  30-07-2022   Prerna Singh           11               00:00:38   \n",
       "2      2  30-07-2022  Nandani Gupta           11               00:01:15   \n",
       "3      3  30-07-2022     Ameya Jain           14               00:00:30   \n",
       "4      4  30-07-2022  Mahesh Sarade           14               00:01:04   \n",
       "\n",
       "0  Average Resolution Time  Average Rating  Total Feedback  \n",
       "0  Average Resolution Time  Average Rating  Total Feedback  \n",
       "1                 00:04:20            4.11               9  \n",
       "2                 00:28:25            3.14               7  \n",
       "3                 00:11:36            4.55              11  \n",
       "4                 00:15:46            4.71               7  "
      ]
     },
     "execution_count": 11,
     "metadata": {},
     "output_type": "execute_result"
    }
   ],
   "source": [
    "df.head()"
   ]
  },
  {
   "cell_type": "code",
   "execution_count": 12,
   "id": "5e98ec98",
   "metadata": {},
   "outputs": [],
   "source": [
    "df=df[1:]"
   ]
  },
  {
   "cell_type": "code",
   "execution_count": 32,
   "id": "4b64764e",
   "metadata": {},
   "outputs": [
    {
     "data": {
      "text/plain": [
       "2160"
      ]
     },
     "execution_count": 32,
     "metadata": {},
     "output_type": "execute_result"
    }
   ],
   "source": [
    "len(df)"
   ]
  },
  {
   "cell_type": "code",
   "execution_count": 14,
   "id": "0c533c2f",
   "metadata": {},
   "outputs": [
    {
     "data": {
      "text/plain": [
       "0\n",
       "SL No                      object\n",
       "Date                       object\n",
       "Agent Name                 object\n",
       "Total Chats                object\n",
       "Average Response Time      object\n",
       "Average Resolution Time    object\n",
       "Average Rating             object\n",
       "Total Feedback             object\n",
       "dtype: object"
      ]
     },
     "execution_count": 14,
     "metadata": {},
     "output_type": "execute_result"
    }
   ],
   "source": [
    "df.dtypes"
   ]
  },
  {
   "cell_type": "code",
   "execution_count": 22,
   "id": "26f0128b",
   "metadata": {},
   "outputs": [],
   "source": [
    "import datetime as dt\n",
    "df['Date']=pd.to_datetime(df['Date'],infer_datetime_format=True)\n"
   ]
  },
  {
   "cell_type": "code",
   "execution_count": 30,
   "id": "97b91cb6",
   "metadata": {},
   "outputs": [],
   "source": [
    "df['dayname']=df['Date'].dt.dayofweek"
   ]
  },
  {
   "cell_type": "code",
   "execution_count": 31,
   "id": "09cc4ff2",
   "metadata": {},
   "outputs": [],
   "source": [
    "# data frame containing only the weekdays\n",
    "df1=df[(df['dayname'] !=5) & (df['dayname'] !=6)]"
   ]
  },
  {
   "cell_type": "code",
   "execution_count": 33,
   "id": "8750f28e",
   "metadata": {},
   "outputs": [
    {
     "data": {
      "text/plain": [
       "1656"
      ]
     },
     "execution_count": 33,
     "metadata": {},
     "output_type": "execute_result"
    }
   ],
   "source": [
    "len(df1)"
   ]
  },
  {
   "cell_type": "code",
   "execution_count": 36,
   "id": "638a3f5d",
   "metadata": {},
   "outputs": [
    {
     "name": "stderr",
     "output_type": "stream",
     "text": [
      "C:\\Users\\harz1\\AppData\\Local\\Temp\\ipykernel_14984\\4248073203.py:1: SettingWithCopyWarning: \n",
      "A value is trying to be set on a copy of a slice from a DataFrame.\n",
      "Try using .loc[row_indexer,col_indexer] = value instead\n",
      "\n",
      "See the caveats in the documentation: https://pandas.pydata.org/pandas-docs/stable/user_guide/indexing.html#returning-a-view-versus-a-copy\n",
      "  df1['week']=df1['Date'].dt.isocalendar().week\n"
     ]
    }
   ],
   "source": [
    "df1['week']=df1['Date'].dt.isocalendar().week"
   ]
  },
  {
   "cell_type": "code",
   "execution_count": 38,
   "id": "ac7c7ed2",
   "metadata": {},
   "outputs": [
    {
     "name": "stderr",
     "output_type": "stream",
     "text": [
      "C:\\Users\\harz1\\AppData\\Local\\Temp\\ipykernel_14984\\3813021143.py:1: SettingWithCopyWarning: \n",
      "A value is trying to be set on a copy of a slice from a DataFrame.\n",
      "Try using .loc[row_indexer,col_indexer] = value instead\n",
      "\n",
      "See the caveats in the documentation: https://pandas.pydata.org/pandas-docs/stable/user_guide/indexing.html#returning-a-view-versus-a-copy\n",
      "  df1['Average Rating']=df1['Average Rating'].astype('float')\n"
     ]
    }
   ],
   "source": [
    "\n",
    "df1['Average Rating']=df1['Average Rating'].astype('float')"
   ]
  },
  {
   "cell_type": "code",
   "execution_count": 39,
   "id": "19765996",
   "metadata": {},
   "outputs": [
    {
     "data": {
      "text/plain": [
       "0\n",
       "SL No                              object\n",
       "Date                       datetime64[ns]\n",
       "Agent Name                         object\n",
       "Total Chats                        object\n",
       "Average Response Time              object\n",
       "Average Resolution Time            object\n",
       "Average Rating                    float64\n",
       "Total Feedback                     object\n",
       "dayname                             int64\n",
       "week                               UInt32\n",
       "dtype: object"
      ]
     },
     "execution_count": 39,
     "metadata": {},
     "output_type": "execute_result"
    }
   ],
   "source": [
    "df1.dtypes"
   ]
  },
  {
   "cell_type": "code",
   "execution_count": 40,
   "id": "aa635982",
   "metadata": {},
   "outputs": [
    {
     "data": {
      "text/plain": [
       "Agent Name  week\n",
       "Abhishek    1       0.000\n",
       "            6       0.000\n",
       "            10      0.000\n",
       "            14      0.000\n",
       "            23      0.000\n",
       "                    ...  \n",
       "Zeeshan     30      3.312\n",
       "            36      0.000\n",
       "            40      0.000\n",
       "            45      4.330\n",
       "            49      3.750\n",
       "Name: Average Rating, Length: 910, dtype: float64"
      ]
     },
     "execution_count": 40,
     "metadata": {},
     "output_type": "execute_result"
    }
   ],
   "source": [
    "# Question1:avarage rating on weekly basis\n",
    "a=df1.groupby(['Agent Name','week'])['Average Rating'].mean()\n",
    "a"
   ]
  },
  {
   "cell_type": "code",
   "execution_count": null,
   "id": "8f3fe283",
   "metadata": {},
   "outputs": [],
   "source": [
    "df1.dtypes"
   ]
  },
  {
   "cell_type": "code",
   "execution_count": 41,
   "id": "342742ff",
   "metadata": {},
   "outputs": [
    {
     "name": "stdout",
     "output_type": "stream",
     "text": [
      "Agent Name\n",
      "Abhishek         23\n",
      "Aditya           23\n",
      "Aditya Shinde    23\n",
      "Aditya_iot       23\n",
      "Amersh           23\n",
      "                 ..\n",
      "Uday Mishra      23\n",
      "Vasanth P        23\n",
      "Vivek            23\n",
      "Wasim            23\n",
      "Zeeshan          23\n",
      "Name: Date, Length: 70, dtype: int64\n"
     ]
    }
   ],
   "source": [
    "# question2Total working days for each agents \n",
    "b=df1.groupby('Agent Name')['Date'].count()\n",
    "print(b)"
   ]
  },
  {
   "cell_type": "code",
   "execution_count": 43,
   "id": "a3910e8d",
   "metadata": {},
   "outputs": [
    {
     "name": "stderr",
     "output_type": "stream",
     "text": [
      "C:\\Users\\harz1\\AppData\\Local\\Temp\\ipykernel_14984\\1848703179.py:1: SettingWithCopyWarning: \n",
      "A value is trying to be set on a copy of a slice from a DataFrame.\n",
      "Try using .loc[row_indexer,col_indexer] = value instead\n",
      "\n",
      "See the caveats in the documentation: https://pandas.pydata.org/pandas-docs/stable/user_guide/indexing.html#returning-a-view-versus-a-copy\n",
      "  df1['Total Chats']=df1['Total Chats'].astype('int').copy()\n"
     ]
    }
   ],
   "source": [
    "df1['Total Chats']=df1['Total Chats'].astype('int')"
   ]
  },
  {
   "cell_type": "code",
   "execution_count": null,
   "id": "87daef86",
   "metadata": {},
   "outputs": [],
   "source": [
    "df1.dtypes"
   ]
  },
  {
   "cell_type": "code",
   "execution_count": 44,
   "id": "5d47299f",
   "metadata": {},
   "outputs": [
    {
     "name": "stdout",
     "output_type": "stream",
     "text": [
      "               sum  count\n",
      "Agent Name               \n",
      "Abhishek         0     23\n",
      "Aditya           0     23\n",
      "Aditya Shinde  221     23\n",
      "Aditya_iot     225     23\n",
      "Amersh           0     23\n",
      "...            ...    ...\n",
      "Uday Mishra      0     23\n",
      "Vasanth P        0     23\n",
      "Vivek           30     23\n",
      "Wasim          366     23\n",
      "Zeeshan        410     23\n",
      "\n",
      "[70 rows x 2 columns]\n"
     ]
    }
   ],
   "source": [
    "#QUESTION 3 :Total query that you hvae taken \n",
    "c=df1.groupby('Agent Name')['Total Chats'].agg(['sum','count'])\n",
    "print(c)"
   ]
  },
  {
   "cell_type": "code",
   "execution_count": 45,
   "id": "abb928d4",
   "metadata": {},
   "outputs": [],
   "source": [
    "df['Total Feedback']=df['Total Feedback'].astype('int')"
   ]
  },
  {
   "cell_type": "code",
   "execution_count": 63,
   "id": "404070b0",
   "metadata": {},
   "outputs": [
    {
     "name": "stdout",
     "output_type": "stream",
     "text": [
      "Agent Name\n",
      "Abhishek           0\n",
      "Aditya             0\n",
      "Aditya Shinde    153\n",
      "Aditya_iot       131\n",
      "Amersh             0\n",
      "                ... \n",
      "Uday Mishra        0\n",
      "Vasanth P          0\n",
      "Vivek             20\n",
      "Wasim            284\n",
      "Zeeshan          335\n",
      "Name: Total Feedback, Length: 70, dtype: int32\n"
     ]
    }
   ],
   "source": [
    "#QUESTION 4:total Feedback that you have received \n",
    "d=df.groupby('Agent Name')['Total Feedback'].sum()\n",
    "print(d)"
   ]
  },
  {
   "cell_type": "code",
   "execution_count": 55,
   "id": "c77abd00",
   "metadata": {},
   "outputs": [
    {
     "data": {
      "text/html": [
       "<div>\n",
       "<style scoped>\n",
       "    .dataframe tbody tr th:only-of-type {\n",
       "        vertical-align: middle;\n",
       "    }\n",
       "\n",
       "    .dataframe tbody tr th {\n",
       "        vertical-align: top;\n",
       "    }\n",
       "\n",
       "    .dataframe thead th {\n",
       "        text-align: right;\n",
       "    }\n",
       "</style>\n",
       "<table border=\"1\" class=\"dataframe\">\n",
       "  <thead>\n",
       "    <tr style=\"text-align: right;\">\n",
       "      <th></th>\n",
       "      <th>Agent Name</th>\n",
       "      <th>Average Rating</th>\n",
       "    </tr>\n",
       "  </thead>\n",
       "  <tbody>\n",
       "    <tr>\n",
       "      <th>1</th>\n",
       "      <td>Prerna Singh</td>\n",
       "      <td>4.11</td>\n",
       "    </tr>\n",
       "    <tr>\n",
       "      <th>3</th>\n",
       "      <td>Ameya Jain</td>\n",
       "      <td>4.55</td>\n",
       "    </tr>\n",
       "    <tr>\n",
       "      <th>4</th>\n",
       "      <td>Mahesh Sarade</td>\n",
       "      <td>4.71</td>\n",
       "    </tr>\n",
       "    <tr>\n",
       "      <th>5</th>\n",
       "      <td>Swati</td>\n",
       "      <td>3.67</td>\n",
       "    </tr>\n",
       "    <tr>\n",
       "      <th>6</th>\n",
       "      <td>Mukesh</td>\n",
       "      <td>4.62</td>\n",
       "    </tr>\n",
       "    <tr>\n",
       "      <th>...</th>\n",
       "      <td>...</td>\n",
       "      <td>...</td>\n",
       "    </tr>\n",
       "    <tr>\n",
       "      <th>2101</th>\n",
       "      <td>Shubham Sharma</td>\n",
       "      <td>5.00</td>\n",
       "    </tr>\n",
       "    <tr>\n",
       "      <th>2102</th>\n",
       "      <td>Jaydeep Dixit</td>\n",
       "      <td>4.77</td>\n",
       "    </tr>\n",
       "    <tr>\n",
       "      <th>2103</th>\n",
       "      <td>Shivananda Sonwane</td>\n",
       "      <td>4.86</td>\n",
       "    </tr>\n",
       "    <tr>\n",
       "      <th>2104</th>\n",
       "      <td>Khushboo Priya</td>\n",
       "      <td>4.61</td>\n",
       "    </tr>\n",
       "    <tr>\n",
       "      <th>2105</th>\n",
       "      <td>Hrisikesh Neogi</td>\n",
       "      <td>4.56</td>\n",
       "    </tr>\n",
       "  </tbody>\n",
       "</table>\n",
       "<p>686 rows × 2 columns</p>\n",
       "</div>"
      ],
      "text/plain": [
       "0             Agent Name  Average Rating\n",
       "1           Prerna Singh            4.11\n",
       "3             Ameya Jain            4.55\n",
       "4          Mahesh Sarade            4.71\n",
       "5                 Swati             3.67\n",
       "6                Mukesh             4.62\n",
       "...                  ...             ...\n",
       "2101      Shubham Sharma            5.00\n",
       "2102       Jaydeep Dixit            4.77\n",
       "2103  Shivananda Sonwane            4.86\n",
       "2104      Khushboo Priya            4.61\n",
       "2105     Hrisikesh Neogi            4.56\n",
       "\n",
       "[686 rows x 2 columns]"
      ]
     },
     "execution_count": 55,
     "metadata": {},
     "output_type": "execute_result"
    }
   ],
   "source": [
    "#QUESTION 5. a agent name who have average rating between 3.5 to 4 \n",
    "\n",
    "e=df.loc[(df['Average Rating'] >= 3.5) & (df['Average Rating'] <= 5)]\n",
    "e[['Agent Name','Average Rating']]\n"
   ]
  },
  {
   "cell_type": "code",
   "execution_count": 52,
   "id": "b5f7bec8",
   "metadata": {},
   "outputs": [],
   "source": [
    "df['Average Rating'] = df['Average Rating'].astype('float')"
   ]
  },
  {
   "cell_type": "code",
   "execution_count": 56,
   "id": "df0b1c9a",
   "metadata": {},
   "outputs": [
    {
     "data": {
      "text/html": [
       "<div>\n",
       "<style scoped>\n",
       "    .dataframe tbody tr th:only-of-type {\n",
       "        vertical-align: middle;\n",
       "    }\n",
       "\n",
       "    .dataframe tbody tr th {\n",
       "        vertical-align: top;\n",
       "    }\n",
       "\n",
       "    .dataframe thead th {\n",
       "        text-align: right;\n",
       "    }\n",
       "</style>\n",
       "<table border=\"1\" class=\"dataframe\">\n",
       "  <thead>\n",
       "    <tr style=\"text-align: right;\">\n",
       "      <th></th>\n",
       "      <th>Agent Name</th>\n",
       "      <th>Average Rating</th>\n",
       "    </tr>\n",
       "  </thead>\n",
       "  <tbody>\n",
       "    <tr>\n",
       "      <th>2</th>\n",
       "      <td>Nandani Gupta</td>\n",
       "      <td>3.14</td>\n",
       "    </tr>\n",
       "    <tr>\n",
       "      <th>20</th>\n",
       "      <td>Hitesh Choudhary</td>\n",
       "      <td>0.00</td>\n",
       "    </tr>\n",
       "    <tr>\n",
       "      <th>21</th>\n",
       "      <td>Sanjeevan</td>\n",
       "      <td>0.00</td>\n",
       "    </tr>\n",
       "    <tr>\n",
       "      <th>22</th>\n",
       "      <td>Anirudh</td>\n",
       "      <td>0.00</td>\n",
       "    </tr>\n",
       "    <tr>\n",
       "      <th>23</th>\n",
       "      <td>Shiva Srivastava</td>\n",
       "      <td>0.00</td>\n",
       "    </tr>\n",
       "    <tr>\n",
       "      <th>...</th>\n",
       "      <td>...</td>\n",
       "      <td>...</td>\n",
       "    </tr>\n",
       "    <tr>\n",
       "      <th>2156</th>\n",
       "      <td>Sowmiya Sivakumar</td>\n",
       "      <td>0.00</td>\n",
       "    </tr>\n",
       "    <tr>\n",
       "      <th>2157</th>\n",
       "      <td>Nitin M</td>\n",
       "      <td>0.00</td>\n",
       "    </tr>\n",
       "    <tr>\n",
       "      <th>2158</th>\n",
       "      <td>Vivek</td>\n",
       "      <td>0.00</td>\n",
       "    </tr>\n",
       "    <tr>\n",
       "      <th>2159</th>\n",
       "      <td>Ayushi Mishra</td>\n",
       "      <td>0.00</td>\n",
       "    </tr>\n",
       "    <tr>\n",
       "      <th>2160</th>\n",
       "      <td>Chaitra K Hiremath</td>\n",
       "      <td>0.00</td>\n",
       "    </tr>\n",
       "  </tbody>\n",
       "</table>\n",
       "<p>1474 rows × 2 columns</p>\n",
       "</div>"
      ],
      "text/plain": [
       "0             Agent Name  Average Rating\n",
       "2          Nandani Gupta            3.14\n",
       "20      Hitesh Choudhary            0.00\n",
       "21            Sanjeevan             0.00\n",
       "22              Anirudh             0.00\n",
       "23      Shiva Srivastava            0.00\n",
       "...                  ...             ...\n",
       "2156   Sowmiya Sivakumar            0.00\n",
       "2157             Nitin M            0.00\n",
       "2158              Vivek             0.00\n",
       "2159       Ayushi Mishra            0.00\n",
       "2160  Chaitra K Hiremath            0.00\n",
       "\n",
       "[1474 rows x 2 columns]"
      ]
     },
     "execution_count": 56,
     "metadata": {},
     "output_type": "execute_result"
    }
   ],
   "source": [
    "#QUESTION:6.Agent name who have rating lesss then 3.5 \n",
    "d=df.loc[(df['Average Rating']<3.5)]\n",
    "d[['Agent Name','Average Rating']]"
   ]
  },
  {
   "cell_type": "code",
   "execution_count": 57,
   "id": "38bfc0e1",
   "metadata": {},
   "outputs": [
    {
     "data": {
      "text/html": [
       "<div>\n",
       "<style scoped>\n",
       "    .dataframe tbody tr th:only-of-type {\n",
       "        vertical-align: middle;\n",
       "    }\n",
       "\n",
       "    .dataframe tbody tr th {\n",
       "        vertical-align: top;\n",
       "    }\n",
       "\n",
       "    .dataframe thead th {\n",
       "        text-align: right;\n",
       "    }\n",
       "</style>\n",
       "<table border=\"1\" class=\"dataframe\">\n",
       "  <thead>\n",
       "    <tr style=\"text-align: right;\">\n",
       "      <th></th>\n",
       "      <th>Agent Name</th>\n",
       "      <th>Average Rating</th>\n",
       "    </tr>\n",
       "  </thead>\n",
       "  <tbody>\n",
       "    <tr>\n",
       "      <th>3</th>\n",
       "      <td>Ameya Jain</td>\n",
       "      <td>4.55</td>\n",
       "    </tr>\n",
       "    <tr>\n",
       "      <th>4</th>\n",
       "      <td>Mahesh Sarade</td>\n",
       "      <td>4.71</td>\n",
       "    </tr>\n",
       "    <tr>\n",
       "      <th>6</th>\n",
       "      <td>Mukesh</td>\n",
       "      <td>4.62</td>\n",
       "    </tr>\n",
       "    <tr>\n",
       "      <th>7</th>\n",
       "      <td>Saikumarreddy N</td>\n",
       "      <td>5.00</td>\n",
       "    </tr>\n",
       "    <tr>\n",
       "      <th>8</th>\n",
       "      <td>Sanjeev Kumar</td>\n",
       "      <td>5.00</td>\n",
       "    </tr>\n",
       "    <tr>\n",
       "      <th>...</th>\n",
       "      <td>...</td>\n",
       "      <td>...</td>\n",
       "    </tr>\n",
       "    <tr>\n",
       "      <th>2101</th>\n",
       "      <td>Shubham Sharma</td>\n",
       "      <td>5.00</td>\n",
       "    </tr>\n",
       "    <tr>\n",
       "      <th>2102</th>\n",
       "      <td>Jaydeep Dixit</td>\n",
       "      <td>4.77</td>\n",
       "    </tr>\n",
       "    <tr>\n",
       "      <th>2103</th>\n",
       "      <td>Shivananda Sonwane</td>\n",
       "      <td>4.86</td>\n",
       "    </tr>\n",
       "    <tr>\n",
       "      <th>2104</th>\n",
       "      <td>Khushboo Priya</td>\n",
       "      <td>4.61</td>\n",
       "    </tr>\n",
       "    <tr>\n",
       "      <th>2105</th>\n",
       "      <td>Hrisikesh Neogi</td>\n",
       "      <td>4.56</td>\n",
       "    </tr>\n",
       "  </tbody>\n",
       "</table>\n",
       "<p>307 rows × 2 columns</p>\n",
       "</div>"
      ],
      "text/plain": [
       "0             Agent Name  Average Rating\n",
       "3             Ameya Jain            4.55\n",
       "4          Mahesh Sarade            4.71\n",
       "6                Mukesh             4.62\n",
       "7        Saikumarreddy N            5.00\n",
       "8          Sanjeev Kumar            5.00\n",
       "...                  ...             ...\n",
       "2101      Shubham Sharma            5.00\n",
       "2102       Jaydeep Dixit            4.77\n",
       "2103  Shivananda Sonwane            4.86\n",
       "2104      Khushboo Priya            4.61\n",
       "2105     Hrisikesh Neogi            4.56\n",
       "\n",
       "[307 rows x 2 columns]"
      ]
     },
     "execution_count": 57,
     "metadata": {},
     "output_type": "execute_result"
    }
   ],
   "source": [
    "#7 QUESTION:agent name who have rating more then 4.5 \n",
    "e=df.loc[(df['Average Rating']>4.5)]\n",
    "e[['Agent Name','Average Rating']]"
   ]
  },
  {
   "cell_type": "code",
   "execution_count": 61,
   "id": "b065482f",
   "metadata": {},
   "outputs": [
    {
     "data": {
      "text/plain": [
       "3489"
      ]
     },
     "execution_count": 61,
     "metadata": {},
     "output_type": "execute_result"
    }
   ],
   "source": [
    "#8.QUESTION :8 . how many feedaback agents have received more then 4.5 average\n",
    "df[df['Average Rating']>4.5]['Total Feedback'].sum()"
   ]
  },
  {
   "cell_type": "code",
   "execution_count": 59,
   "id": "825255da",
   "metadata": {},
   "outputs": [
    {
     "data": {
      "text/plain": [
       "1       00:00:38\n",
       "2       00:01:15\n",
       "3       00:00:30\n",
       "4       00:01:04\n",
       "5       00:01:11\n",
       "          ...   \n",
       "2156    00:00:00\n",
       "2157    00:00:00\n",
       "2158    00:00:00\n",
       "2159    00:00:00\n",
       "2160    00:00:00\n",
       "Name: Average Response Time, Length: 2160, dtype: object"
      ]
     },
     "execution_count": 59,
     "metadata": {},
     "output_type": "execute_result"
    }
   ],
   "source": [
    "#9 QUESTION: . average weekly response time for each agent\n",
    "df['Average Response Time']\n"
   ]
  },
  {
   "cell_type": "code",
   "execution_count": 65,
   "id": "160dd673",
   "metadata": {},
   "outputs": [
    {
     "name": "stderr",
     "output_type": "stream",
     "text": [
      "C:\\Users\\harz1\\AppData\\Local\\Temp\\ipykernel_14984\\3261467414.py:2: SettingWithCopyWarning: \n",
      "A value is trying to be set on a copy of a slice from a DataFrame.\n",
      "Try using .loc[row_indexer,col_indexer] = value instead\n",
      "\n",
      "See the caveats in the documentation: https://pandas.pydata.org/pandas-docs/stable/user_guide/indexing.html#returning-a-view-versus-a-copy\n",
      "  df1['Average Response Time'] = pd.to_datetime(df1['Average Response Time'], infer_datetime_format=True)\n"
     ]
    },
    {
     "data": {
      "text/plain": [
       "week\n",
       "1    2022-08-05 00:00:20.944444416\n",
       "6    2022-08-05 00:00:17.847222272\n",
       "10   2022-08-05 00:00:17.013888768\n",
       "14   2022-08-05 00:00:16.888888832\n",
       "23   2022-08-05 00:00:45.513888768\n",
       "27   2022-08-05 00:00:23.638888960\n",
       "28   2022-08-05 00:00:25.819444480\n",
       "29   2022-08-05 00:00:25.524999936\n",
       "30   2022-08-05 00:00:26.400000256\n",
       "36   2022-08-05 00:00:23.097222144\n",
       "40   2022-08-05 00:00:17.666666752\n",
       "45   2022-08-05 00:00:21.972222208\n",
       "49   2022-08-05 00:00:26.569444352\n",
       "Name: Average Response Time, dtype: datetime64[ns]"
      ]
     },
     "execution_count": 65,
     "metadata": {},
     "output_type": "execute_result"
    }
   ],
   "source": [
    "#10 . average weekely resolution time for each agents \n",
    "df1['Average Response Time'] = pd.to_datetime(df1['Average Response Time'], infer_datetime_format=True)\n",
    "df1.groupby('week')['Average Response Time'].mean()"
   ]
  },
  {
   "cell_type": "code",
   "execution_count": 66,
   "id": "2b31489f",
   "metadata": {},
   "outputs": [
    {
     "data": {
      "text/plain": [
       "array(['Prerna Singh', 'Nandani Gupta', 'Ameya Jain', 'Mahesh Sarade',\n",
       "       'Swati ', 'Mukesh ', 'Saikumarreddy N', 'Sanjeev Kumar',\n",
       "       'Shubham Sharma', 'Nishtha Jain', 'Manjunatha A', 'Khushboo Priya',\n",
       "       'Suraj S Bilgi', 'Harikrishnan Shaji', 'Hrisikesh Neogi',\n",
       "       'Shivan K', 'Sowmiya Sivakumar', 'Madhulika G', 'Mithun S',\n",
       "       'Hitesh Choudhary', 'Sanjeevan ', 'Anirudh ', 'Shiva Srivastava',\n",
       "       'Dibyanshu ', 'Ashish ', 'Uday Mishra', 'Aditya Shinde',\n",
       "       'Jayant Kumar', 'Aditya_iot ', 'Prabir Kumar Satapathy',\n",
       "       'Saurabh Shukla', 'Wasim ', 'Samprit ', 'Maitry ', 'Abhishek ',\n",
       "       'Rishav Dash', 'Aravind ', 'Tarun ', 'Muskan Garg', 'Ankit Sharma',\n",
       "       'Bharath ', 'Ashad Nasim', 'Vasanth P', 'Aditya ', 'Amersh ',\n",
       "       'Sandipan Saha', 'Ineuron Intelligence ', 'Mahak ', 'Mukesh Rao ',\n",
       "       'Zeeshan ', 'Anurag Tiwari', 'Ankitjha ', 'Saif Khan',\n",
       "       'Jaydeep Dixit', 'Sudhanshu Kumar', 'Maneesh ', 'Hyder Abbas',\n",
       "       'Rohan ', 'Vivek ', 'Nitin M', 'Shivan_S ', 'Spuri ',\n",
       "       'Ayushi Mishra', 'Chaitra K Hiremath', 'Prateek _iot ',\n",
       "       'Boktiar Ahmed Bappy', 'Shivananda Sonwane', 'Ishawant Kumar',\n",
       "       'Deepranjan Gupta', 'Jawala Prakash'], dtype=object)"
      ]
     },
     "execution_count": 66,
     "metadata": {},
     "output_type": "execute_result"
    }
   ],
   "source": [
    "#11QUESTION . list of all agents name \n",
    "df['Agent Name'].unique()\n"
   ]
  },
  {
   "cell_type": "code",
   "execution_count": 67,
   "id": "0405176f",
   "metadata": {},
   "outputs": [
    {
     "data": {
      "text/plain": [
       "1       0.097203\n",
       "2       0.075602\n",
       "3       0.118803\n",
       "4       0.075602\n",
       "5       0.064802\n",
       "          ...   \n",
       "2156    0.000000\n",
       "2157    0.000000\n",
       "2158    0.000000\n",
       "2159    0.000000\n",
       "2160    0.000000\n",
       "Name: per, Length: 2160, dtype: float64"
      ]
     },
     "execution_count": 67,
     "metadata": {},
     "output_type": "execute_result"
    }
   ],
   "source": [
    "#12 . percentage of chat on which they have received a feedback \n",
    "\n",
    "\n",
    "df['per']=(df['Total Feedback']/df['Total Feedback'].sum())*100\n",
    "df['per']"
   ]
  },
  {
   "cell_type": "code",
   "execution_count": null,
   "id": "ff252d25",
   "metadata": {},
   "outputs": [],
   "source": [
    "#13 QUESTION: Total contributation hour for each and every agents weekly basis\n"
   ]
  },
  {
   "cell_type": "code",
   "execution_count": null,
   "id": "61750bf3",
   "metadata": {},
   "outputs": [],
   "source": [
    "#14.QUESTION: total percentage of active hour for a month "
   ]
  },
  {
   "cell_type": "code",
   "execution_count": null,
   "id": "f39715aa",
   "metadata": {},
   "outputs": [],
   "source": []
  },
  {
   "cell_type": "code",
   "execution_count": null,
   "id": "205cf4f9",
   "metadata": {},
   "outputs": [],
   "source": []
  }
 ],
 "metadata": {
  "kernelspec": {
   "display_name": "Python 3 (ipykernel)",
   "language": "python",
   "name": "python3"
  },
  "language_info": {
   "codemirror_mode": {
    "name": "ipython",
    "version": 3
   },
   "file_extension": ".py",
   "mimetype": "text/x-python",
   "name": "python",
   "nbconvert_exporter": "python",
   "pygments_lexer": "ipython3",
   "version": "3.9.12"
  }
 },
 "nbformat": 4,
 "nbformat_minor": 5
}
