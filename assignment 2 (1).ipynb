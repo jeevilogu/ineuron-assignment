{
 "cells": [
  {
   "cell_type": "markdown",
   "id": "0af4ecfa",
   "metadata": {},
   "source": [
    "True and False are the two boolean operators. It beginning letter should be upper case."
   ]
  },
  {
   "cell_type": "markdown",
   "id": "51b47d4a",
   "metadata": {},
   "source": [
    "    and,or and not are 3 diff boolean operators."
   ]
  },
  {
   "cell_type": "code",
   "execution_count": null,
   "id": "ad6698db",
   "metadata": {},
   "outputs": [],
   "source": [
    " truth table of 'AND' operator\n",
    "        RESULT\n",
    "    T T T\n",
    "    F F T\n",
    "    T F F\n",
    "    F T T\n",
    "    \n",
    " truth table of 'OR'  operator\n",
    "        RESULT\n",
    "    T T T\n",
    "    T F T\n",
    "    F T T\n",
    "    F F F\n",
    "    \n",
    "    \n",
    " truth table of 'not' operator\n",
    "      RESULT\n",
    "    T F\n",
    "    F T"
   ]
  },
  {
   "cell_type": "code",
   "execution_count": 1,
   "id": "56548fe4",
   "metadata": {},
   "outputs": [
    {
     "data": {
      "text/plain": [
       "False"
      ]
     },
     "execution_count": 1,
     "metadata": {},
     "output_type": "execute_result"
    }
   ],
   "source": [
    "(5 > 4) and (3 == 5) "
   ]
  },
  {
   "cell_type": "code",
   "execution_count": 2,
   "id": "4bb32387",
   "metadata": {},
   "outputs": [
    {
     "data": {
      "text/plain": [
       "False"
      ]
     },
     "execution_count": 2,
     "metadata": {},
     "output_type": "execute_result"
    }
   ],
   "source": [
    "not (5 and 4)\n"
   ]
  },
  {
   "cell_type": "code",
   "execution_count": 3,
   "id": "74d4fc0a",
   "metadata": {},
   "outputs": [
    {
     "data": {
      "text/plain": [
       "4"
      ]
     },
     "execution_count": 3,
     "metadata": {},
     "output_type": "execute_result"
    }
   ],
   "source": [
    "(5 and 4) or (3 == 5)"
   ]
  },
  {
   "cell_type": "code",
   "execution_count": 4,
   "id": "a6a27bcf",
   "metadata": {},
   "outputs": [
    {
     "data": {
      "text/plain": [
       "False"
      ]
     },
     "execution_count": 4,
     "metadata": {},
     "output_type": "execute_result"
    }
   ],
   "source": [
    "not ((5 and 4) or (3 == 5))"
   ]
  },
  {
   "cell_type": "code",
   "execution_count": 5,
   "id": "0b5565bb",
   "metadata": {},
   "outputs": [
    {
     "data": {
      "text/plain": [
       "False"
      ]
     },
     "execution_count": 5,
     "metadata": {},
     "output_type": "execute_result"
    }
   ],
   "source": [
    "(True and True) and (True == False)"
   ]
  },
  {
   "cell_type": "code",
   "execution_count": 6,
   "id": "41390eb7",
   "metadata": {},
   "outputs": [
    {
     "data": {
      "text/plain": [
       "True"
      ]
     },
     "execution_count": 6,
     "metadata": {},
     "output_type": "execute_result"
    }
   ],
   "source": [
    "(not False) or (not True)"
   ]
  },
  {
   "cell_type": "markdown",
   "id": "922bbd4d",
   "metadata": {},
   "source": [
    "the six comparision operators are <,<=,>,>=,!,=="
   ]
  },
  {
   "cell_type": "code",
   "execution_count": null,
   "id": "3cfd624b",
   "metadata": {},
   "outputs": [],
   "source": [
    "equal to(==) is used to check any equality condition ex: if 5==6\n",
    "assignment (=) is used to assign any value ex : n=5, x= 'robert'"
   ]
  },
  {
   "cell_type": "code",
   "execution_count": null,
   "id": "8167f1bf",
   "metadata": {},
   "outputs": [],
   "source": [
    "if ,if ,else are the 3 blocks."
   ]
  },
  {
   "cell_type": "code",
   "execution_count": 7,
   "id": "49fa6a02",
   "metadata": {},
   "outputs": [
    {
     "name": "stdout",
     "output_type": "stream",
     "text": [
      "Greetings!\n"
     ]
    }
   ],
   "source": [
    "spam = 4\n",
    "if spam == 1:\n",
    "    print('Hello')\n",
    "if spam == 2:\n",
    "    print('Howdy')\n",
    "else:\n",
    "    print('Greetings!')"
   ]
  },
  {
   "cell_type": "code",
   "execution_count": null,
   "id": "9e536217",
   "metadata": {},
   "outputs": [],
   "source": [
    "ctrl + c is used to interrupt the infinite loop"
   ]
  },
  {
   "cell_type": "markdown",
   "id": "135cf305",
   "metadata": {},
   "source": [
    "break command will abruptly stop the loop . Continue command will allow the loop to continue the execution."
   ]
  },
  {
   "cell_type": "markdown",
   "id": "f5ea35ba",
   "metadata": {},
   "source": [
    "In range (10),range(0,10),range(0,10,1) .\n",
    "All of them will generate sequence of numbers from 0 to 9. \n",
    "range(10) will take the starting value by default as 0\n",
    "range(0,10) here the starting and ending value is specified. upper limit will be excluded.\n",
    "range(0,10,1) the third parameter is the step size which is 1 so there won't be any numbers skipped in the sequence."
   ]
  },
  {
   "cell_type": "code",
   "execution_count": null,
   "id": "e444c215",
   "metadata": {},
   "outputs": [],
   "source": [
    "for i in range(1,11):\n",
    "    print(i)"
   ]
  },
  {
   "cell_type": "code",
   "execution_count": null,
   "id": "f021b13e",
   "metadata": {},
   "outputs": [],
   "source": [
    "i=1\n",
    "while(i<11):\n",
    "    print(i)\n",
    "    i=i+1"
   ]
  },
  {
   "cell_type": "code",
   "execution_count": null,
   "id": "cd64a68c",
   "metadata": {},
   "outputs": [],
   "source": [
    "i = 1\n",
    "while(i<=10):\n",
    "    print(i)\n",
    "    i += 1"
   ]
  },
  {
   "cell_type": "code",
   "execution_count": null,
   "id": "fa04c49e",
   "metadata": {},
   "outputs": [],
   "source": [
    "spam.bacon()"
   ]
  }
 ],
 "metadata": {
  "kernelspec": {
   "display_name": "Python 3 (ipykernel)",
   "language": "python",
   "name": "python3"
  },
  "language_info": {
   "codemirror_mode": {
    "name": "ipython",
    "version": 3
   },
   "file_extension": ".py",
   "mimetype": "text/x-python",
   "name": "python",
   "nbconvert_exporter": "python",
   "pygments_lexer": "ipython3",
   "version": "3.9.12"
  }
 },
 "nbformat": 4,
 "nbformat_minor": 5
}
