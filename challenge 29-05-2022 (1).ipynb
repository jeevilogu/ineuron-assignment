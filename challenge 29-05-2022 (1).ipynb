{
 "cells": [
  {
   "cell_type": "code",
   "execution_count": 5,
   "id": "985ab6e3",
   "metadata": {},
   "outputs": [
    {
     "name": "stdout",
     "output_type": "stream",
     "text": [
      "*   \n",
      "* *   \n",
      "* * *   \n",
      "* * * *   \n",
      "* * * * *   \n",
      "* * * * * *   \n",
      "* * * * * * *   \n",
      "* * * * * * * *   \n",
      "* * * * * * * * *   \n"
     ]
    }
   ],
   "source": [
    "#q1 : Try to print this by using while loop \n",
    "n=1\n",
    "while(n<10):\n",
    "    print('* '*n,end='  ')\n",
    "    n=n+1\n",
    "    print()"
   ]
  },
  {
   "cell_type": "code",
   "execution_count": 9,
   "id": "c4878813",
   "metadata": {},
   "outputs": [
    {
     "name": "stdout",
     "output_type": "stream",
     "text": [
      "*   \n",
      "* *   \n",
      "* * *   \n",
      "* * * *   \n",
      "* * * * *   \n",
      "* * * * * *   \n",
      "* * * * * * *   \n",
      "* * * * * * * *   \n",
      "* * * * * * * * *   \n"
     ]
    }
   ],
   "source": [
    "def tri(n):\n",
    "    n=1\n",
    "    while(n<10):\n",
    "        print('* '*n,end='  ')\n",
    "        n=n+1\n",
    "        print()\n",
    "    \n",
    "tri(9)    "
   ]
  },
  {
   "cell_type": "code",
   "execution_count": 7,
   "id": "9a54fa5b",
   "metadata": {},
   "outputs": [],
   "source": [
    "tri(10)\n"
   ]
  },
  {
   "cell_type": "code",
   "execution_count": 10,
   "id": "6a2df1af",
   "metadata": {},
   "outputs": [
    {
     "name": "stdout",
     "output_type": "stream",
     "text": [
      "42 45 48 51 54 57 60 63 66 69 72 75 78 81 84 87 90 93 96 99 102 105 108 111 114 117 120 123 126 129 132 135 138 141 144 147 150 153 156 159 162 165 168 171 174 177 180 183 186 189 192 195 198 201 204 207 210 213 216 219 222 225 228 231 234 237 240 243 246 249 252 255 258 261 264 267 270 273 276 279 282 285 288 291 294 297 300 303 306 309 312 315 318 321 324 327 330 333 336 339 342 345 348 351 354 357 360 363 366 369 372 375 378 381 384 387 390 393 396 399 "
     ]
    }
   ],
   "source": [
    "# Try to print all the number divisible by 3 in between a range of 40for i in range(40,401):\n",
    "    if i%3 == 0:\n",
    "        print(i,end=' ')\n",
    "        "
   ]
  },
  {
   "cell_type": "code",
   "execution_count": 11,
   "id": "6d5ac09a",
   "metadata": {},
   "outputs": [
    {
     "name": "stdout",
     "output_type": "stream",
     "text": [
      "42 45 48 51 54 57 60 63 66 69 72 75 78 81 84 87 90 93 96 99 102 105 108 111 114 117 120 123 126 129 132 135 138 141 144 147 150 153 156 159 162 165 168 171 174 177 180 183 186 189 192 195 198 201 204 207 210 213 216 219 222 225 228 231 234 237 240 243 246 249 252 255 258 261 264 267 270 273 276 279 282 285 288 291 294 297 300 303 306 309 312 315 318 321 324 327 330 333 336 339 342 345 348 351 354 357 360 363 366 369 372 375 378 381 384 387 390 393 396 399 "
     ]
    }
   ],
   "source": [
    "def mul(n,m):\n",
    "    for i in range(n,m):\n",
    "         if i%3 == 0:\n",
    "            print(i,end=' ')\n",
    "mul(40,400)  "
   ]
  },
  {
   "cell_type": "code",
   "execution_count": 21,
   "id": "f9e0b867",
   "metadata": {},
   "outputs": [
    {
     "name": "stdout",
     "output_type": "stream",
     "text": [
      "2 4 6 8 10 12 14 16 18 20 22 24 26 28 30 32 34 36 38 40 42 44 46 48 50 52 54 56 58 60 62 64 66 68 70 72 74 76 78 80 82 84 86 88 90 92 94 96 98 100 102 104 106 108 110 112 114 116 118 120 122 124 126 128 130 132 134 136 138 140 142 144 146 148 150 152 154 156 158 160 162 164 166 168 170 172 174 176 178 180 182 184 186 188 190 192 194 196 198 200 202 204 206 208 210 212 214 216 218 220 222 224 226 228 230 232 234 236 238 240 242 244 246 248 250 252 254 256 258 260 262 264 266 268 270 272 274 276 278 280 282 284 286 288 290 292 294 296 298 300 302 304 306 308 310 312 314 316 318 320 322 324 326 328 330 332 334 336 338 340 342 344 346 348 350 352 354 356 358 360 362 364 366 368 370 372 374 376 378 380 382 384 386 388 390 392 394 396 398 400 402 404 406 408 410 412 414 416 418 420 422 424 426 428 430 432 434 436 438 440 442 444 446 448 450 452 454 456 458 460 462 464 466 468 470 472 474 476 478 480 482 484 486 488 490 492 494 496 498 500 502 504 506 508 510 512 514 516 518 520 522 524 526 528 530 532 534 536 538 540 542 544 546 548 550 552 554 556 558 560 562 564 566 568 570 572 574 576 578 580 582 584 586 588 590 592 594 596 598 600 602 604 606 608 610 612 614 616 618 620 622 624 626 628 630 632 634 636 638 640 642 644 646 648 650 652 654 656 658 660 662 664 666 668 670 672 674 676 678 680 682 684 686 688 690 692 694 696 698 700 702 704 706 708 710 712 714 716 718 720 722 724 726 728 730 732 734 736 738 740 742 744 746 748 750 752 754 756 758 760 762 764 766 768 770 772 774 776 778 780 782 784 786 788 790 792 794 796 798 800 802 804 806 808 810 812 814 816 818 820 822 824 826 828 830 832 834 836 838 840 842 844 846 848 850 852 854 856 858 860 862 864 866 868 870 872 874 876 878 880 882 884 886 888 890 892 894 896 898 900 902 904 906 908 910 912 914 916 918 920 922 924 926 928 930 932 934 936 938 940 942 944 946 948 950 952 954 956 958 960 962 964 966 968 970 972 974 976 978 980 982 984 986 988 990 992 994 996 998 1000 "
     ]
    }
   ],
   "source": [
    "# Try to print all the number divisible by 3 in between a range of 40for i in range(1,1001):\n",
    "    if i%2==0:\n",
    "        print(i,end = ' ')"
   ]
  },
  {
   "cell_type": "code",
   "execution_count": 13,
   "id": "b412afff",
   "metadata": {},
   "outputs": [
    {
     "name": "stdout",
     "output_type": "stream",
     "text": [
      "2 4 6 8 10 12 14 16 18 20 22 24 26 28 30 32 34 36 38 40 42 44 46 48 50 52 54 56 58 60 62 64 66 68 70 72 74 76 78 80 82 84 86 88 90 92 94 96 98 100 102 104 106 108 110 112 114 116 118 120 122 124 126 128 130 132 134 136 138 140 142 144 146 148 150 152 154 156 158 160 162 164 166 168 170 172 174 176 178 180 182 184 186 188 190 192 194 196 198 200 202 204 206 208 210 212 214 216 218 220 222 224 226 228 230 232 234 236 238 240 242 244 246 248 250 252 254 256 258 260 262 264 266 268 270 272 274 276 278 280 282 284 286 288 290 292 294 296 298 300 302 304 306 308 310 312 314 316 318 320 322 324 326 328 330 332 334 336 338 340 342 344 346 348 350 352 354 356 358 360 362 364 366 368 370 372 374 376 378 380 382 384 386 388 390 392 394 396 398 400 402 404 406 408 410 412 414 416 418 420 422 424 426 428 430 432 434 436 438 440 442 444 446 448 450 452 454 456 458 460 462 464 466 468 470 472 474 476 478 480 482 484 486 488 490 492 494 496 498 500 502 504 506 508 510 512 514 516 518 520 522 524 526 528 530 532 534 536 538 540 542 544 546 548 550 552 554 556 558 560 562 564 566 568 570 572 574 576 578 580 582 584 586 588 590 592 594 596 598 600 602 604 606 608 610 612 614 616 618 620 622 624 626 628 630 632 634 636 638 640 642 644 646 648 650 652 654 656 658 660 662 664 666 668 670 672 674 676 678 680 682 684 686 688 690 692 694 696 698 700 702 704 706 708 710 712 714 716 718 720 722 724 726 728 730 732 734 736 738 740 742 744 746 748 750 752 754 756 758 760 762 764 766 768 770 772 774 776 778 780 782 784 786 788 790 792 794 796 798 800 802 804 806 808 810 812 814 816 818 820 822 824 826 828 830 832 834 836 838 840 842 844 846 848 850 852 854 856 858 860 862 864 866 868 870 872 874 876 878 880 882 884 886 888 890 892 894 896 898 900 902 904 906 908 910 912 914 916 918 920 922 924 926 928 930 932 934 936 938 940 942 944 946 948 950 952 954 956 958 960 962 964 966 968 970 972 974 976 978 980 982 984 986 988 990 992 994 996 998 1000 "
     ]
    }
   ],
   "source": [
    "def even(n1,n2):\n",
    "    for i in range(n1,n2):\n",
    "        if i%2==0:\n",
    "            print(i,end = ' ')\n",
    "even(1,1001)  "
   ]
  },
  {
   "cell_type": "code",
   "execution_count": 21,
   "id": "98de19c1",
   "metadata": {},
   "outputs": [
    {
     "name": "stdout",
     "output_type": "stream",
     "text": [
      "['o', 'i', 'a', 'i', 'e', 'e', 'i', 'e', 'e', 'e', 'e', 'e', 'a', 'u', 'o', 'e', 'o', 'a', 'i', 'a', 'u', 'a', 'e', 'I', 'e', 'i', 'i', 'o', 'o', 'e', 'a', 'i', 'e', 'o', 'e', 'e', 'a', 'a', 'i', 'i', 'i', 'e', 'u', 'e', 'o', 'i', 'i', 'i', 'a', 'i', 'e', 'a', 'i', 'o', 'o', 'i', 'a', 'i', 'a', 'e', 'a', 'a', 'a', 'e', 'o', 'e', 'e', 'I', 'u', 'o', 'u', 'i', 'e', 'o', 'a', 'i', 'a', 'a', 'i', 'i', 'u', 'i', 'u', 'u', 'e', 'a', 'i', 'u', 'a', 'o', 'e', 'u', 'a', 'o', 'e', 'o', 'i', 'e', 'e', 'a', 'u', 'i', 'o', 'a', 'o', 'a', 'i', 'I', 'i', 'o', 'e', 'e', 'i', 'e', 'a', 'a', 'a', 'e', 'i', 'e', 'i', 'u', 'e', 'a', 'u', 'a', 'e', 'u', 'e', 'o', 'i', 'o', 'e', 'e', 'i', 'e', 'a', 'a', 'i', 'a', 'u', 'i', 'o', 'a', 'o', 'u', 'e', 'a', 'o', 'i', 'o', 'o', 'i', 'e', 'a', 'e', 'a', 'a', 'u', 'e', 'o', 'o', 'e', 'A', 'o', 'a', 'i', 'a', 'u', 'a', 'e', 'a', 'i', 'e', 'e', 'a', 'e', 'i', 'i', 'a', 'o', 'o', 'a', 'e', 'e', 'a', 'e', 'i', 'a', 'i', 'o', 'u', 'e', 'e', 'e', 'a', 'u', 'e', 'u', 'a', 'i', 'o', 'e', 'e', 'i', 'o', 'e', 'e', 'e', 'i', 'a', 'a', 'e', 'o', 'e', 'i', 'o', 'e', 'e', 'e', 'e', 'o', 'u', 'i', 'a', 'U', 'i', 'o', 'e', 'u', 'o', 'o', 'e', 'e', 'a', 'e', 'i', 'a', 'a', 'a', 'o', 'e', 'i', 'i', 'o', 'a', 'i', 'o', 'o', 'e', 'e', 'a', 'a', 'o', 'a', 'i', 'e', 'i', 'e', 'a', 'i', 'e', 'e', 'i', 'o', 'o', 'a', 'i', 'o', 'i', 'u', 'e', 'i', 'e', 'i', 'o', 'i', 'o', 'o', 'i', 'e', 'a', 'a', 'o', 'e', 'o', 'e', 'o', 'o', 'u', 'a', 'o', 'a', 'i', 'a', 'u', 'a', 'e']\n"
     ]
    }
   ],
   "source": [
    "# Try to filter out all the vowels form below text by using while loop : \n",
    "s=\"\"\"Python is a high-level, interpreted, general-purpose programming language. Its design philosophy emphasizes code readability with the use of significant indentation.[32]\n",
    "\n",
    "Python is dynamically-typed and garbage-collected. It supports multiple programming paradigms, including structured (particularly procedural), object-oriented and functional programming. It is often described as a \"batteries included\" language due to its comprehensive standard library.[33][34]\n",
    "\n",
    "Guido van Rossum began working on Python in the late 1980s as a successor to the ABC programming language and first released it in 1991 as Python 0.9.0.[35] Python 2.0 was released in 2000 and introduced new features such as list comprehensions, cycle-detecting garbage collection, reference counting, and Unicode support. Python 3.0, released in 2008, was a major revision that is not completely backward-compatible with earlier versions. Python 2 was discontinued with version 2.7.18 in 2020.[36]\n",
    "\n",
    "Python consistently ranks as one of the most popular programming languagesc\"\"\" \n",
    "\n",
    "i=0\n",
    "l=[]\n",
    "while  i<len(s):\n",
    "    if s[i] =='a'or  s[i] == 'e' or s[i] == 'i' or s[i] == 'o' or s[i]=='u'or s[i] =='A'or  s[i] == 'E' or s[i] == 'I' or s[i] == 'O' or s[i]=='U' :\n",
    "        l.append(s[i])\n",
    "    i=i+1\n",
    "print(l)  "
   ]
  },
  {
   "cell_type": "code",
   "execution_count": 3,
   "id": "61cdf529",
   "metadata": {},
   "outputs": [
    {
     "ename": "SyntaxError",
     "evalue": "invalid syntax (3714967280.py, line 7)",
     "output_type": "error",
     "traceback": [
      "\u001b[1;36m  Input \u001b[1;32mIn [3]\u001b[1;36m\u001b[0m\n\u001b[1;33m    else:\u001b[0m\n\u001b[1;37m    ^\u001b[0m\n\u001b[1;31mSyntaxError\u001b[0m\u001b[1;31m:\u001b[0m invalid syntax\n"
     ]
    }
   ],
   "source": [
    "i=0\n",
    "l=[]\n",
    "while  i<len(s):\n",
    "    if s[i] =='a'or  s[i] == 'e' or s[i] == 'i' or s[i] == 'o' or s[i]=='u' :\n",
    "        l.append(s[i])\n",
    "    i= i+1\n",
    "    else:\n",
    "        pass\n",
    "print(l)   \n",
    "    \n",
    "    "
   ]
  },
  {
   "cell_type": "code",
   "execution_count": 10,
   "id": "53972eee",
   "metadata": {},
   "outputs": [
    {
     "name": "stdout",
     "output_type": "stream",
     "text": [
      "Today's date: 2022-06-03\n"
     ]
    }
   ],
   "source": [
    "# Write a code to fetch date form your system from datetime import date \n",
    "today = date.today()\n",
    "print(\"Today's date:\", today)"
   ]
  },
  {
   "cell_type": "code",
   "execution_count": 13,
   "id": "45493145",
   "metadata": {},
   "outputs": [
    {
     "name": "stdout",
     "output_type": "stream",
     "text": [
      "now =  2022-06-03 15:00:49.996589\n"
     ]
    }
   ],
   "source": [
    "# Write a code to fetch time form your system \n",
    "from datetime import datetime\n",
    "  \n",
    "  \n",
    "\n",
    "now = datetime.now()\n",
    "print(\"now = \", now)\n"
   ]
  },
  {
   "cell_type": "code",
   "execution_count": null,
   "id": "63e77a9f",
   "metadata": {},
   "outputs": [],
   "source": [
    "# Write a code to send a mail to your friend \n"
   ]
  },
  {
   "cell_type": "code",
   "execution_count": null,
   "id": "5a918bcd",
   "metadata": {},
   "outputs": [],
   "source": [
    "#write a code to trigger alarm for you at scheduled time \n",
    "\n",
    "\n"
   ]
  },
  {
   "cell_type": "code",
   "execution_count": null,
   "id": "3af35328",
   "metadata": {},
   "outputs": [],
   "source": [
    "#q11 : write a code to check ip address of your system \n"
   ]
  },
  {
   "cell_type": "code",
   "execution_count": null,
   "id": "95a2ae4d",
   "metadata": {},
   "outputs": [],
   "source": [
    "#q 12Write a code to check a perticular installation in your system\n",
    "\n",
    "\n"
   ]
  },
  {
   "cell_type": "code",
   "execution_count": null,
   "id": "8ae39a6e",
   "metadata": {},
   "outputs": [],
   "source": [
    "#q13 : Write a code to convert any text in to voice \n"
   ]
  },
  {
   "cell_type": "code",
   "execution_count": 11,
   "id": "46ece9e7",
   "metadata": {},
   "outputs": [
    {
     "data": {
      "text/plain": [
       "4"
      ]
     },
     "execution_count": 11,
     "metadata": {},
     "output_type": "execute_result"
    }
   ],
   "source": [
    "#you have to write a fun which will take string and return a len of \n",
    "#it without using a inbuilt fun len\n",
    "\n",
    "def str(s):\n",
    "    i=0\n",
    "    for x in s:\n",
    "        i=i+1\n",
    "    return i\n",
    "        \n",
    "        \n",
    "str('ramu')"
   ]
  },
  {
   "cell_type": "code",
   "execution_count": 12,
   "id": "888022e9",
   "metadata": {},
   "outputs": [
    {
     "name": "stdout",
     "output_type": "stream",
     "text": [
      "index of the element at position 0 is 3\n",
      "index of the element at position 1 is 4\n",
      "index of the element at position 2 is s\n",
      "index of the element at position 3 is 5.6\n"
     ]
    }
   ],
   "source": [
    "#:q 14write a fun which will be able to print an index of all premitive element which you will pass \n",
    "def xyz(s):\n",
    "    for i in range(len(s)):\n",
    "        print('index of the element at position',i, 'is',s[i])\n",
    "        \n",
    "xyz([3,4,'s',5.6])"
   ]
  },
  {
   "cell_type": "code",
   "execution_count": 23,
   "id": "62b99a3b",
   "metadata": {},
   "outputs": [
    {
     "name": "stdout",
     "output_type": "stream",
     "text": [
      "[1, 'r', [90, 95, 100], 9]\n"
     ]
    }
   ],
   "source": [
    "# q 15 Write a fun which will take input as a dict and give me out as a list of all the values \n",
    "#even in case of 2 level nesting it should work . \n",
    "def dictfunc(d):\n",
    "    l=[]\n",
    "    for i in d.values():\n",
    "        l.append(i)\n",
    "        for i in l:\n",
    "            \n",
    "    print(l)\n",
    "        \n",
    "d={'s':1,2:'r','jeevi':[90,95,100],8:9}   \n",
    "dictfunc(d)"
   ]
  },
  {
   "cell_type": "code",
   "execution_count": 8,
   "id": "593bd6b8",
   "metadata": {},
   "outputs": [
    {
     "data": {
      "text/plain": [
       "[11, 22, 33, 44, 'x', 'y', 'z', 1, 2, 3, 'x']"
      ]
     },
     "execution_count": 8,
     "metadata": {},
     "output_type": "execute_result"
    }
   ],
   "source": [
    "#q 16  write a function whihc will take multiple list as a input and give me concatnation of all the element as \n",
    "#and output\n",
    "def funct(s):\n",
    "    e=[]\n",
    "    for i in s:\n",
    "        for j in i:\n",
    "            e.append(j)\n",
    "    return e\n",
    "        \n",
    "s=[[11,22,33,44],['x','y','z'],[1,2,3,'x']]        \n",
    "funct(s)"
   ]
  },
  {
   "cell_type": "code",
   "execution_count": null,
   "id": "fba5d5ec",
   "metadata": {},
   "outputs": [],
   "source": [
    "# Write a function which will whould return list of all the file name from a directory . \n"
   ]
  },
  {
   "cell_type": "code",
   "execution_count": null,
   "id": "a06bbbc9",
   "metadata": {},
   "outputs": [],
   "source": [
    "#write a function whihc will be able to read a image file and show it to you .\n",
    "    \n"
   ]
  },
  {
   "cell_type": "code",
   "execution_count": null,
   "id": "21a2512c",
   "metadata": {},
   "outputs": [],
   "source": [
    "#q20 : write a function by which you will be able to append two PDF files ."
   ]
  },
  {
   "cell_type": "code",
   "execution_count": null,
   "id": "0c3d0dc8",
   "metadata": {},
   "outputs": [],
   "source": [
    "#q21 : write a function which can help you to filter only word file from a directory ."
   ]
  },
  {
   "cell_type": "code",
   "execution_count": null,
   "id": "ff5e01f5",
   "metadata": {},
   "outputs": [],
   "source": [
    "#q22 : write a function which can read video file and play for you . \n",
    "    "
   ]
  },
  {
   "cell_type": "code",
   "execution_count": null,
   "id": "f0dcbf0e",
   "metadata": {},
   "outputs": [],
   "source": [
    "#q23 : write a function which will be able to shutdonw your system . "
   ]
  },
  {
   "cell_type": "code",
   "execution_count": null,
   "id": "ef680933",
   "metadata": {},
   "outputs": [],
   "source": [
    " #q24 :Write a function which will whould return list of all the file name from a directory . \n"
   ]
  },
  {
   "cell_type": "code",
   "execution_count": null,
   "id": "84f9d0f6",
   "metadata": {},
   "outputs": [],
   "source": [
    " #q25: write a function whihc will be able to access your mail . "
   ]
  },
  {
   "cell_type": "code",
   "execution_count": null,
   "id": "42ed12c7",
   "metadata": {},
   "outputs": [],
   "source": []
  }
 ],
 "metadata": {
  "kernelspec": {
   "display_name": "Python 3 (ipykernel)",
   "language": "python",
   "name": "python3"
  },
  "language_info": {
   "codemirror_mode": {
    "name": "ipython",
    "version": 3
   },
   "file_extension": ".py",
   "mimetype": "text/x-python",
   "name": "python",
   "nbconvert_exporter": "python",
   "pygments_lexer": "ipython3",
   "version": "3.9.12"
  }
 },
 "nbformat": 4,
 "nbformat_minor": 5
}
