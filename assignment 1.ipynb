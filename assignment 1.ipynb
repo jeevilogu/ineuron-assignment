{
 "cells": [
  {
   "cell_type": "markdown",
   "id": "79c98e30",
   "metadata": {},
   "source": [
    "1.  math operator  are  ( *,/,+,-)\n",
    "    values are ('hello',-87.8,6)"
   ]
  },
  {
   "cell_type": "markdown",
   "id": "1d108a05",
   "metadata": {},
   "source": [
    "2. string is data type which may have alphabetical and special characters whereas variable contain values of any data type like int,string,float."
   ]
  },
  {
   "cell_type": "markdown",
   "id": "050b4d20",
   "metadata": {},
   "source": [
    "3. int datatype contains whole number\n",
    "   float datatype contains a number with precession (deci numbers)\n",
    "   string datatype contains alphabetic and special characters."
   ]
  },
  {
   "cell_type": "markdown",
   "id": "c66c45f9",
   "metadata": {},
   "source": [
    "4. An expression contains some values and mathematical operators which will evaluate and gives a value as an output."
   ]
  },
  {
   "cell_type": "markdown",
   "id": "2f8e6a09",
   "metadata": {},
   "source": [
    "5.An expression can be a part of a statement which gives some value. Statement is a set of codes."
   ]
  },
  {
   "cell_type": "code",
   "execution_count": 2,
   "id": "31499d2c",
   "metadata": {},
   "outputs": [
    {
     "data": {
      "text/plain": [
       "23"
      ]
     },
     "execution_count": 2,
     "metadata": {},
     "output_type": "execute_result"
    }
   ],
   "source": [
    "bacon=22\n",
    "bacon+1"
   ]
  },
  {
   "cell_type": "code",
   "execution_count": 3,
   "id": "1a925770",
   "metadata": {},
   "outputs": [
    {
     "data": {
      "text/plain": [
       "'spamspamspam'"
      ]
     },
     "execution_count": 3,
     "metadata": {},
     "output_type": "execute_result"
    }
   ],
   "source": [
    "'spam' + 'spamspam'"
   ]
  },
  {
   "cell_type": "code",
   "execution_count": 4,
   "id": "927ac3ec",
   "metadata": {},
   "outputs": [
    {
     "data": {
      "text/plain": [
       "'spamspamspam'"
      ]
     },
     "execution_count": 4,
     "metadata": {},
     "output_type": "execute_result"
    }
   ],
   "source": [
    "'spam' *3"
   ]
  },
  {
   "cell_type": "markdown",
   "id": "4f421475",
   "metadata": {},
   "source": [
    "eggs is a valid variable name as it is beginning with lower case letters, do not begin with special characters or any num.\n",
    "100 is a num which can't be a variable."
   ]
  },
  {
   "cell_type": "markdown",
   "id": "0cd38122",
   "metadata": {},
   "source": [
    "int(),float(),str()"
   ]
  },
  {
   "cell_type": "code",
   "execution_count": 5,
   "id": "117bb5a8",
   "metadata": {},
   "outputs": [
    {
     "ename": "TypeError",
     "evalue": "can only concatenate str (not \"int\") to str",
     "output_type": "error",
     "traceback": [
      "\u001b[1;31m---------------------------------------------------------------------------\u001b[0m",
      "\u001b[1;31mTypeError\u001b[0m                                 Traceback (most recent call last)",
      "Input \u001b[1;32mIn [5]\u001b[0m, in \u001b[0;36m<cell line: 1>\u001b[1;34m()\u001b[0m\n\u001b[1;32m----> 1\u001b[0m \u001b[38;5;124;43m'\u001b[39;49m\u001b[38;5;124;43mI have eaten\u001b[39;49m\u001b[38;5;124;43m'\u001b[39;49m\u001b[43m \u001b[49m\u001b[38;5;241;43m+\u001b[39;49m\u001b[43m \u001b[49m\u001b[38;5;241;43m99\u001b[39;49m \u001b[38;5;241m+\u001b[39m \u001b[38;5;124m'\u001b[39m\u001b[38;5;124mburitos\u001b[39m\u001b[38;5;124m'\u001b[39m\n",
      "\u001b[1;31mTypeError\u001b[0m: can only concatenate str (not \"int\") to str"
     ]
    }
   ],
   "source": [
    "'I have eaten' + 99 + 'buritos'"
   ]
  },
  {
   "cell_type": "code",
   "execution_count": 6,
   "id": "7cfaea9f",
   "metadata": {},
   "outputs": [
    {
     "data": {
      "text/plain": [
       "'I have eaten99buritos'"
      ]
     },
     "execution_count": 6,
     "metadata": {},
     "output_type": "execute_result"
    }
   ],
   "source": [
    "'I have eaten' + '99' + 'buritos'"
   ]
  }
 ],
 "metadata": {
  "kernelspec": {
   "display_name": "Python 3 (ipykernel)",
   "language": "python",
   "name": "python3"
  },
  "language_info": {
   "codemirror_mode": {
    "name": "ipython",
    "version": 3
   },
   "file_extension": ".py",
   "mimetype": "text/x-python",
   "name": "python",
   "nbconvert_exporter": "python",
   "pygments_lexer": "ipython3",
   "version": "3.9.12"
  }
 },
 "nbformat": 4,
 "nbformat_minor": 5
}
